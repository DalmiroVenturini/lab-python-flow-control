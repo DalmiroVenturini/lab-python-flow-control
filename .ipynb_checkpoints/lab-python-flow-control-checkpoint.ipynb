{
 "cells": [
  {
   "cell_type": "markdown",
   "id": "d3bfc191-8885-42ee-b0a0-bbab867c6f9f",
   "metadata": {
    "tags": []
   },
   "source": [
    "# Lab | Flow Control"
   ]
  },
  {
   "cell_type": "markdown",
   "id": "3851fcd1-cf98-4653-9c89-e003b7ec9400",
   "metadata": {},
   "source": [
    "## Exercise: Managing Customer Orders Optimized\n",
    "\n",
    "In the last lab, you were starting an online store that sells various products. To ensure smooth operations, you developed a program that manages customer orders and inventory.\n",
    "\n",
    "You did so without using flow control. Let's go a step further and improve this code.\n",
    "\n",
    "Follow the steps below to complete the exercise:\n",
    "\n",
    "1. Look at your code from the lab data structures, and improve repeated code with loops.\n",
    "\n",
    "2. Instead of asking the user to input the name of three products that a customer wants to order, do the following:\n",
    "    \n",
    "    a. Prompt the user to enter the name of a product that a customer wants to order.\n",
    "    \n",
    "    b. Add the product name to the \"customer_orders\" set.\n",
    "    \n",
    "    c. Ask the user if they want to add another product (yes/no).\n",
    "    \n",
    "    d. Continue the loop until the user does not want to add another product.\n",
    "\n",
    "3. Instead of updating the inventory by subtracting 1 from the quantity of each product, only do it for  the products that were ordered (those in \"customer_orders\")."
   ]
  },
  {
   "cell_type": "code",
   "execution_count": 1,
   "id": "3a0a0046-ab47-4a88-8408-b55cf37ded1d",
   "metadata": {},
   "outputs": [],
   "source": [
    "#1.\n",
    "##1\n",
    "products = [\"t-shirt\", \"mug\", \"hat\", \"book\", \"keychain\"]"
   ]
  },
  {
   "cell_type": "code",
   "execution_count": 3,
   "id": "b07bb3c9-290b-4984-aca0-b7fa79dddcee",
   "metadata": {},
   "outputs": [],
   "source": [
    "##2\n",
    "inventory = {}"
   ]
  },
  {
   "cell_type": "code",
   "execution_count": 5,
   "id": "0110b026-f6bc-4c29-a1c3-b565090e426e",
   "metadata": {},
   "outputs": [
    {
     "name": "stdin",
     "output_type": "stream",
     "text": [
      "Ingresa la cantidad de t-shirt:  4\n",
      "Ingresa la cantidad de mug:  5\n",
      "Ingresa la cantidad de hat:  2\n",
      "Ingresa la cantidad de book:  4\n",
      "Ingresa la cantidad de keychain:  5\n"
     ]
    },
    {
     "name": "stdout",
     "output_type": "stream",
     "text": [
      "Inventario actual:\n",
      "{'t-shirt': 4, 'mug': 5, 'hat': 2, 'book': 4, 'keychain': 5}\n"
     ]
    }
   ],
   "source": [
    "##3\n",
    "# Recorrer la lista de productos y solicitar la cantidad para cada uno\n",
    "\n",
    "for product in products:\n",
    "    # Pedir al usuario ingresar la cantidad para cada producto\n",
    "    quantity = int(input(f\"Ingresa la cantidad de {product}: \"))\n",
    "    # Asignar la cantidad en el diccionario \"inventory\"\n",
    "    inventory[product] = quantity\n",
    "\n",
    "# Mostrar el inventario resultante\n",
    "print(\"Inventario actual:\")\n",
    "print(inventory)"
   ]
  },
  {
   "cell_type": "code",
   "execution_count": 7,
   "id": "8f67efcf-dba9-40e2-a4ec-4c66ac35b87f",
   "metadata": {},
   "outputs": [],
   "source": [
    "#2.\n",
    "##4\n",
    "customer_orders = set()"
   ]
  },
  {
   "cell_type": "code",
   "execution_count": 17,
   "id": "f232df96-ba77-45c4-b1e8-e2592ad01a76",
   "metadata": {},
   "outputs": [
    {
     "name": "stdin",
     "output_type": "stream",
     "text": [
      "Ingresa nombre de product1:  hat\n"
     ]
    },
    {
     "name": "stdout",
     "output_type": "stream",
     "text": [
      "Nombre de productos que contiene la órden:\n",
      "{'book', 'hat'}\n"
     ]
    }
   ],
   "source": [
    "#2.a.\n",
    "# Pedir al usuario ingresar 1 tipo de producto que quiere en su orden\n",
    "product1_name = input(f\"Ingresa nombre de product1: \")\n",
    "\n",
    "\n",
    "#2.b.\n",
    "# Asignar el nombre de producto en el set \"customer_orders\"\n",
    "customer_orders.add (product1_name)\n",
    "\n",
    "print(\"Nombre de productos que contiene la órden:\")\n",
    "print(customer_orders)"
   ]
  },
  {
   "cell_type": "code",
   "execution_count": 19,
   "id": "2830f006-68d1-4178-9e45-2ca76ec28986",
   "metadata": {},
   "outputs": [
    {
     "name": "stdin",
     "output_type": "stream",
     "text": [
      "¿Quieres añadir otro producto a tu órden?:  yes\n"
     ]
    }
   ],
   "source": [
    "#2.c.\n",
    "# Preguntar al usuario si quiere agregar otro producto en el set \"customer_orders\"\n",
    "añadir_producto = input(f\"¿Quieres añadir otro producto a tu órden?: \")"
   ]
  },
  {
   "cell_type": "code",
   "execution_count": 21,
   "id": "a60225ac-fea9-403f-ac8f-8aa0d92334fd",
   "metadata": {},
   "outputs": [
    {
     "name": "stdin",
     "output_type": "stream",
     "text": [
      "Ingresa nombre de product1:  book\n",
      "¿Quieres añadir otro producto a tu órden?:  yes\n",
      "Ingresa nombre de product1:  hat\n",
      "¿Quieres añadir otro producto a tu órden?:  no\n"
     ]
    },
    {
     "name": "stdout",
     "output_type": "stream",
     "text": [
      "Gracias por la compra:\n",
      "{'book', 'hat'}\n"
     ]
    }
   ],
   "source": [
    "#2.d.\n",
    "#Continuar el loop consultando al cliente si quiere agregar más productos y agregándolos al set \"customer_orders\"\n",
    "while añadir_producto == \"yes\":\n",
    "    product1_name = input(f\"Ingresa nombre de product1: \")\n",
    "    customer_orders.add (product1_name)\n",
    "    añadir_producto = input(f\"¿Quieres añadir otro producto a tu órden?: \")\n",
    "else:\n",
    "    print(\"Gracias por la compra:\")\n",
    "    print(customer_orders)\n"
   ]
  },
  {
   "cell_type": "code",
   "execution_count": null,
   "id": "07ffd699-b84b-4b56-81c2-2c7bb11c1f18",
   "metadata": {},
   "outputs": [],
   "source": [
    "##7\n",
    "#Total Products Number\n",
    "total_products_number = len(customer_orders)\n",
    "total_products_number\n",
    "percentage_products_ordered\n",
    "\n",
    "#Guardar las estadísticas en una tupla\n",
    "statistics = (total_products_number,percentage_products_ordered)\n",
    "statistics"
   ]
  },
  {
   "cell_type": "code",
   "execution_count": null,
   "id": "8377034a-f6b5-426a-b62a-46616a029496",
   "metadata": {},
   "outputs": [],
   "source": [
    "##8\n",
    "#Mostrar las estadísticas\n",
    "print(\"Order Statistics:\")\n",
    "print(\"Total Products Ordered:\", total_products_number)\n",
    "print(\"Percentage of Products Ordered:\", percentage_products_ordered)"
   ]
  },
  {
   "cell_type": "code",
   "execution_count": 41,
   "id": "fbaec1df-ca2e-45e7-a85c-97c0ed09fcf1",
   "metadata": {},
   "outputs": [
    {
     "data": {
      "text/plain": [
       "{'t-shirt': 4, 'mug': 5, 'hat': -2, 'book': 0, 'keychain': 5}"
      ]
     },
     "execution_count": 41,
     "metadata": {},
     "output_type": "execute_result"
    }
   ],
   "source": [
    "inventory"
   ]
  },
  {
   "cell_type": "code",
   "execution_count": 37,
   "id": "1e422905-79ba-4b74-bbca-4f7075d2ac00",
   "metadata": {},
   "outputs": [],
   "source": [
    "#3.\n",
    "##9\n",
    "for product in customer_orders:\n",
    "    if product in inventory: #Verifica si el producto está en el inventario.\n",
    "        inventory[product] -= 1 #Resta 1 al inventario del producto product solo si el producto fue ordenado"
   ]
  },
  {
   "cell_type": "code",
   "execution_count": 39,
   "id": "e1998061-43a0-4315-9033-ebbf66e58df1",
   "metadata": {},
   "outputs": [
    {
     "name": "stdout",
     "output_type": "stream",
     "text": [
      "t-shirt 4\n",
      "mug 5\n",
      "hat -2\n",
      "book 0\n",
      "keychain 5\n"
     ]
    }
   ],
   "source": [
    "##10\n",
    "#Mostrar el inventario actualizado\n",
    "for x,i in inventory.items():\n",
    "    print (x,i)"
   ]
  },
  {
   "cell_type": "code",
   "execution_count": 43,
   "id": "fa9cae13-ba7f-4554-82db-e4f47abd9418",
   "metadata": {},
   "outputs": [
    {
     "data": {
      "text/plain": [
       "{'book', 'hat'}"
      ]
     },
     "execution_count": 43,
     "metadata": {},
     "output_type": "execute_result"
    }
   ],
   "source": []
  },
  {
   "cell_type": "code",
   "execution_count": null,
   "id": "4b57005e-0591-461a-b944-bc7ab8340d96",
   "metadata": {},
   "outputs": [],
   "source": []
  }
 ],
 "metadata": {
  "kernelspec": {
   "display_name": "Python 3 (ipykernel)",
   "language": "python",
   "name": "python3"
  },
  "language_info": {
   "codemirror_mode": {
    "name": "ipython",
    "version": 3
   },
   "file_extension": ".py",
   "mimetype": "text/x-python",
   "name": "python",
   "nbconvert_exporter": "python",
   "pygments_lexer": "ipython3",
   "version": "3.12.4"
  }
 },
 "nbformat": 4,
 "nbformat_minor": 5
}
